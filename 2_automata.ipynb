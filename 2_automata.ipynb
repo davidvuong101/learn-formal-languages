{
 "cells": [
  {
   "cell_type": "markdown",
   "id": "41d7c0a2",
   "metadata": {},
   "source": [
    "# Automata"
   ]
  },
  {
   "cell_type": "code",
   "execution_count": null,
   "id": "6f5e995d",
   "metadata": {},
   "outputs": [],
   "source": [
    "# dfa (draft)\n",
    "# todo: define an infrastructure to run automata\n",
    "\n",
    "# q0 -a-> q1\n",
    "\n",
    "Q = {'q0', 'q1'} # set of states\n",
    "sigma = {'a'} # alphabet\n",
    "delta = { # transition function\n",
    "    'q0': {'a': 'q1'}\n",
    "}\n",
    "start_state = 'q0' # start state\n",
    "final_states = {'q1'} # final states"
   ]
  }
 ],
 "metadata": {
  "kernelspec": {
   "display_name": "venv",
   "language": "python",
   "name": "python3"
  },
  "language_info": {
   "codemirror_mode": {
    "name": "ipython",
    "version": 3
   },
   "file_extension": ".py",
   "mimetype": "text/x-python",
   "name": "python",
   "nbconvert_exporter": "python",
   "pygments_lexer": "ipython3",
   "version": "3.10.12"
  }
 },
 "nbformat": 4,
 "nbformat_minor": 5
}
