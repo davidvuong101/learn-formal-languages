{
 "cells": [
  {
   "cell_type": "markdown",
   "id": "feeaa9c1",
   "metadata": {},
   "source": [
    "# Languages"
   ]
  },
  {
   "cell_type": "markdown",
   "id": "7854d3ab",
   "metadata": {},
   "source": [
    "**Alphabet** = a finite, non-empty set of symbols, e.g. \n",
    "$$\\Sigma = \\{ a, b, c, d, e, f, g, h, i, j, k, l, m, n, o, p, q, r, s, t, u, v, w, x, y, z \\}$$ \n",
    "is the English alphabet.\n",
    "\n",
    "**(Formal) Language** = a set of strings whose symbols are taken from the alphabet. E.g., the formal language of Python is the set of all strings containing valid Python programs, that is:\n",
    "$$L_{py} = \\{ ``\", ``print(`hello world')\", ... \\}$$\n",
    "\n",
    "The rules of a language are defined by **grammars**. E.g. in the English language, valid sentences follow English grammar conventions."
   ]
  },
  {
   "cell_type": "markdown",
   "id": "7186131b",
   "metadata": {},
   "source": [
    "### Grammar Definition\n",
    "Grammars define rules to create strings in a language."
   ]
  }
 ],
 "metadata": {
  "kernelspec": {
   "display_name": "venv",
   "language": "python",
   "name": "python3"
  },
  "language_info": {
   "name": "python",
   "version": "3.10.12"
  }
 },
 "nbformat": 4,
 "nbformat_minor": 5
}
